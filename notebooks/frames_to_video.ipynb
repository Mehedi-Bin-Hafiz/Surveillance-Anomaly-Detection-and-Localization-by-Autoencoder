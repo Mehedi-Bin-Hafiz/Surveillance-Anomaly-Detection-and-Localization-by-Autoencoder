{
 "cells": [
  {
   "cell_type": "code",
   "execution_count": 1,
   "id": "0c66ad3b",
   "metadata": {},
   "outputs": [
    {
     "name": "stdout",
     "output_type": "stream",
     "text": [
      "Video saved successfully at: output_frames.mp4\n"
     ]
    }
   ],
   "source": [
    "import cv2\n",
    "import os\n",
    "\n",
    "def frames_to_video(frame_folder, output_path, fps=30):\n",
    "    \"\"\"\n",
    "    Generates a video from image frames.\n",
    "    \n",
    "    Args:\n",
    "        frame_folder (str): Path to the folder containing image frames.\n",
    "        output_path (str): Path where the output video will be saved.\n",
    "        fps (int): Frames per second for the output video.\n",
    "    \"\"\"\n",
    "    # Get list of image files in the folder\n",
    "    images = sorted([img for img in os.listdir(frame_folder) if img.endswith((\".png\", \".jpg\", \".jpeg\",\"tif\"))])\n",
    "    \n",
    "    if not images:\n",
    "        print(\"No image frames found in the folder.\")\n",
    "        return\n",
    "\n",
    "    # Read the first image to get frame dimensions\n",
    "    first_image_path = os.path.join(frame_folder, images[0])\n",
    "    frame = cv2.imread(first_image_path)\n",
    "    height, width, channels = frame.shape\n",
    "    \n",
    "    # Define video codec and create VideoWriter object\n",
    "    fourcc = cv2.VideoWriter_fourcc(*'mp4v')  # Codec for .mp4\n",
    "    video_writer = cv2.VideoWriter(output_path, fourcc, fps, (width, height))\n",
    "    \n",
    "    # Write each frame to the video\n",
    "    for image in images:\n",
    "        image_path = os.path.join(frame_folder, image)\n",
    "        frame = cv2.imread(image_path)\n",
    "        video_writer.write(frame)\n",
    "    \n",
    "    # Release the video writer\n",
    "    video_writer.release()\n",
    "    print(f\"Video saved successfully at: {output_path}\")\n",
    "\n",
    "# Example Usage\n",
    "# frame_folder = 'D:\\\\Research Dataset\\\\UCSD_Anomaly_Dataset\\\\UCSDped1\\\\Test\\\\Test015'  # Replace with your frames folder path\n",
    "frame_folder = \"output_frames\"  # Replace with your frames folder path\n",
    "\n",
    "output_video = f'{frame_folder}.mp4'  # Replace with your desired output video path\n",
    "frames_to_video(frame_folder, output_video, fps=10  )"
   ]
  }
 ],
 "metadata": {
  "kernelspec": {
   "display_name": "Python 3",
   "language": "python",
   "name": "python3"
  },
  "language_info": {
   "codemirror_mode": {
    "name": "ipython",
    "version": 3
   },
   "file_extension": ".py",
   "mimetype": "text/x-python",
   "name": "python",
   "nbconvert_exporter": "python",
   "pygments_lexer": "ipython3",
   "version": "3.10.15"
  }
 },
 "nbformat": 4,
 "nbformat_minor": 5
}
