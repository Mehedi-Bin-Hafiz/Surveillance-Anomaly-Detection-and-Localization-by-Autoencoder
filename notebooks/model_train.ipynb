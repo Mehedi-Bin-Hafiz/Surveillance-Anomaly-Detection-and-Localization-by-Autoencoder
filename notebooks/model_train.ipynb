{
 "cells": [
  {
   "cell_type": "code",
   "execution_count": 1,
   "id": "79603ca2",
   "metadata": {},
   "outputs": [
    {
     "name": "stderr",
     "output_type": "stream",
     "text": [
      "Using TensorFlow backend.\n"
     ]
    }
   ],
   "source": [
    "from keras.preprocessing.image import img_to_array,load_img\n",
    "import numpy as np\n",
    "import glob\n",
    "import os \n",
    "import cv2\n",
    "from keras.layers import Conv3D,ConvLSTM2D,Conv3DTranspose\n",
    "from keras.models import Sequential\n",
    "from keras.callbacks import ModelCheckpoint, EarlyStopping\n",
    "import imutils"
   ]
  },
  {
   "cell_type": "code",
   "execution_count": null,
   "id": "4ade03a0",
   "metadata": {},
   "outputs": [],
   "source": []
  },
  {
   "cell_type": "markdown",
   "id": "f8188626",
   "metadata": {},
   "source": [
    "## Given architechture"
   ]
  },
  {
   "cell_type": "code",
   "execution_count": 2,
   "id": "8dfeb446",
   "metadata": {},
   "outputs": [
    {
     "name": "stdout",
     "output_type": "stream",
     "text": [
      "Model: \"sequential_1\"\n",
      "_________________________________________________________________\n",
      "Layer (type)                 Output Shape              Param #   \n",
      "=================================================================\n",
      "conv3d_1 (Conv3D)            (None, 55, 55, 10, 128)   15616     \n",
      "_________________________________________________________________\n",
      "conv3d_2 (Conv3D)            (None, 26, 26, 10, 64)    204864    \n",
      "_________________________________________________________________\n",
      "conv_lst_m2d_1 (ConvLSTM2D)  (None, 26, 26, 10, 64)    295168    \n",
      "_________________________________________________________________\n",
      "conv_lst_m2d_2 (ConvLSTM2D)  (None, 26, 26, 10, 32)    110720    \n",
      "_________________________________________________________________\n",
      "conv_lst_m2d_3 (ConvLSTM2D)  (None, 26, 26, 10, 64)    221440    \n",
      "_________________________________________________________________\n",
      "conv3d_transpose_1 (Conv3DTr (None, 55, 55, 10, 128)   204928    \n",
      "_________________________________________________________________\n",
      "conv3d_transpose_2 (Conv3DTr (None, 227, 227, 10, 1)   15489     \n",
      "=================================================================\n",
      "Total params: 1,068,225\n",
      "Trainable params: 1,068,225\n",
      "Non-trainable params: 0\n",
      "_________________________________________________________________\n"
     ]
    }
   ],
   "source": [
    "stae_model=Sequential()\n",
    "stae_model.add(Conv3D(filters=128,kernel_size=(11,11,1),strides=(4,4,1),padding='valid',input_shape=(227,227,10,1),activation='tanh'))\n",
    "stae_model.add(Conv3D(filters=64,kernel_size=(5,5,1),strides=(2,2,1),padding='valid',activation='tanh'))\n",
    "stae_model.add(ConvLSTM2D(filters=64,kernel_size=(3,3),strides=1,padding='same',dropout=0.4,recurrent_dropout=0.3,return_sequences=True))\n",
    "stae_model.add(ConvLSTM2D(filters=32,kernel_size=(3,3),strides=1,padding='same',dropout=0.3,return_sequences=True))\n",
    "stae_model.add(ConvLSTM2D(filters=64,kernel_size=(3,3),strides=1,return_sequences=True, padding='same',dropout=0.5))\n",
    "stae_model.add(Conv3DTranspose(filters=128,kernel_size=(5,5,1),strides=(2,2,1),padding='valid',activation='tanh'))\n",
    "stae_model.add(Conv3DTranspose(filters=1,kernel_size=(11,11,1),strides=(4,4,1),padding='valid',activation='tanh'))\n",
    "\n",
    "stae_model.summary()"
   ]
  },
  {
   "cell_type": "code",
   "execution_count": 3,
   "id": "e3284b17",
   "metadata": {},
   "outputs": [],
   "source": [
    "stae_model.compile(optimizer='adam',loss='mean_squared_error',metrics=['accuracy'])"
   ]
  },
  {
   "cell_type": "code",
   "execution_count": 4,
   "id": "face70f5",
   "metadata": {},
   "outputs": [
    {
     "data": {
      "text/plain": [
       "(227, 227, 6136)"
      ]
     },
     "execution_count": 4,
     "metadata": {},
     "output_type": "execute_result"
    }
   ],
   "source": [
    "#dataset loading\n",
    "training_data=np.load('training.npy')\n",
    "training_data.shape"
   ]
  },
  {
   "cell_type": "code",
   "execution_count": null,
   "id": "9f425295",
   "metadata": {},
   "outputs": [],
   "source": []
  },
  {
   "cell_type": "code",
   "execution_count": 5,
   "id": "e874a921",
   "metadata": {},
   "outputs": [],
   "source": [
    "frames=training_data.shape[2]\n",
    "frames=frames-frames%10\n",
    "training_data=training_data[:,:,:frames]"
   ]
  },
  {
   "cell_type": "code",
   "execution_count": 6,
   "id": "f5117a09",
   "metadata": {},
   "outputs": [
    {
     "data": {
      "text/plain": [
       "(227, 227, 6130)"
      ]
     },
     "execution_count": 6,
     "metadata": {},
     "output_type": "execute_result"
    }
   ],
   "source": [
    "training_data.shape"
   ]
  },
  {
   "cell_type": "code",
   "execution_count": 7,
   "id": "2ece30c1",
   "metadata": {},
   "outputs": [],
   "source": [
    "training_data=training_data.reshape(-1,227,227,10)"
   ]
  },
  {
   "cell_type": "code",
   "execution_count": 8,
   "id": "685f85f6",
   "metadata": {},
   "outputs": [
    {
     "data": {
      "text/plain": [
       "(613, 227, 227, 10)"
      ]
     },
     "execution_count": 8,
     "metadata": {},
     "output_type": "execute_result"
    }
   ],
   "source": [
    "training_data.shape"
   ]
  },
  {
   "cell_type": "code",
   "execution_count": 9,
   "id": "9f70974b",
   "metadata": {},
   "outputs": [
    {
     "data": {
      "text/plain": [
       "(613, 227, 227, 10, 1)"
      ]
     },
     "execution_count": 9,
     "metadata": {},
     "output_type": "execute_result"
    }
   ],
   "source": [
    "training_data=np.expand_dims(training_data,axis=4)\n",
    "training_data.shape"
   ]
  },
  {
   "cell_type": "code",
   "execution_count": 10,
   "id": "33a5fd53",
   "metadata": {},
   "outputs": [
    {
     "name": "stdout",
     "output_type": "stream",
     "text": [
      "Epoch 1/20\n",
      "613/613 [==============================] - 106s 172ms/step - loss: 0.0686 - accuracy: 0.7375\n",
      "\n",
      "Epoch 00001: loss improved from inf to 0.06857, saving model to saved_model.h5\n",
      "Epoch 2/20\n",
      "613/613 [==============================] - 102s 166ms/step - loss: 0.0296 - accuracy: 0.7796\n",
      "\n",
      "Epoch 00002: loss improved from 0.06857 to 0.02955, saving model to saved_model.h5\n",
      "Epoch 3/20\n",
      "613/613 [==============================] - 102s 167ms/step - loss: 0.0228 - accuracy: 0.7833\n",
      "\n",
      "Epoch 00003: loss improved from 0.02955 to 0.02275, saving model to saved_model.h5\n",
      "Epoch 4/20\n",
      "613/613 [==============================] - 103s 168ms/step - loss: 0.0290 - accuracy: 0.7796\n",
      "\n",
      "Epoch 00004: loss did not improve from 0.02275\n",
      "Epoch 5/20\n",
      "613/613 [==============================] - 104s 169ms/step - loss: 0.0176 - accuracy: 0.7857\n",
      "\n",
      "Epoch 00005: loss improved from 0.02275 to 0.01757, saving model to saved_model.h5\n",
      "Epoch 6/20\n",
      "613/613 [==============================] - 103s 167ms/step - loss: 0.0144 - accuracy: 0.7869\n",
      "\n",
      "Epoch 00006: loss improved from 0.01757 to 0.01442, saving model to saved_model.h5\n",
      "Epoch 7/20\n",
      "613/613 [==============================] - 103s 168ms/step - loss: 0.0201 - accuracy: 0.7852\n",
      "\n",
      "Epoch 00007: loss did not improve from 0.01442\n",
      "Epoch 8/20\n",
      "613/613 [==============================] - 104s 170ms/step - loss: 0.0144 - accuracy: 0.7868\n",
      "\n",
      "Epoch 00008: loss did not improve from 0.01442\n",
      "Epoch 9/20\n",
      "613/613 [==============================] - 106s 173ms/step - loss: 0.0148 - accuracy: 0.7868\n",
      "\n",
      "Epoch 00009: loss did not improve from 0.01442\n"
     ]
    }
   ],
   "source": [
    "target_data=training_data.copy()\n",
    "epochs=20\n",
    "batch_size=1\n",
    "callback_save = ModelCheckpoint(\"saved_model.h5\", monitor=\"loss\", verbose = 1, save_best_only=True)\n",
    "callback_early_stopping = EarlyStopping(monitor='loss', patience=3)\n",
    "history = stae_model.fit(training_data,target_data, batch_size=batch_size, epochs=epochs, callbacks = [callback_save,callback_early_stopping])"
   ]
  },
  {
   "cell_type": "code",
   "execution_count": 11,
   "id": "832799fd",
   "metadata": {},
   "outputs": [
    {
     "data": {
      "image/png": "[encoded data removed]",
      "text/plain": [
       "<Figure size 432x288 with 1 Axes>"
      ]
     },
     "metadata": {
      "needs_background": "light"
     },
     "output_type": "display_data"
    }
   ],
   "source": [
    "import matplotlib.pyplot as plt\n",
    "history_dict = history.history\n",
    "loss_values = history_dict['loss']\n",
    "epochs = range(1, len(loss_values) + 1)\n",
    "plt.plot(epochs, loss_values, label=\"loss\")\n",
    "plt.title(\"mse\")\n",
    "plt.xlabel('Epochs')\n",
    "plt.ylabel('loss')\n",
    "plt.legend()\n",
    "plt.savefig(\"loss_graph.jpeg\")\n",
    "plt.show()"
   ]
  },
  {
   "cell_type": "code",
   "execution_count": null,
   "id": "4663a128",
   "metadata": {},
   "outputs": [],
   "source": []
  },
  {
   "cell_type": "code",
   "execution_count": null,
   "id": "20f6a0f2",
   "metadata": {},
   "outputs": [],
   "source": []
  },
  {
   "cell_type": "code",
   "execution_count": null,
   "id": "bdac1bfb",
   "metadata": {},
   "outputs": [],
   "source": []
  }
 ],
 "metadata": {
  "kernelspec": {
   "display_name": "venvAI",
   "language": "python",
   "name": "venvai"
  },
  "language_info": {
   "codemirror_mode": {
    "name": "ipython",
    "version": 3
   },
   "file_extension": ".py",
   "mimetype": "text/x-python",
   "name": "python",
   "nbconvert_exporter": "python",
   "pygments_lexer": "ipython3",
   "version": "3.6.8"
  }
 },
 "nbformat": 4,
 "nbformat_minor": 5
}
