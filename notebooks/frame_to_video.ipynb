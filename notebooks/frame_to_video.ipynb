{
 "cells": [
  {
   "cell_type": "code",
   "execution_count": 3,
   "id": "be40fbf5",
   "metadata": {},
   "outputs": [
    {
     "name": "stdout",
     "output_type": "stream",
     "text": [
      "\n",
      "Loss graph video saved to: loss graph.mp4\n"
     ]
    }
   ],
   "source": [
    "import os\n",
    "import cv2\n",
    "\n",
    "# Ensure output_video_path is defined\n",
    "output_video_path = \"loss graph.mp4\"\n",
    "plot_frame_dir = \"plot_frames\"\n",
    "\n",
    "# --- Create video from saved plot frames ---\n",
    "if os.path.exists(plot_frame_dir) and len(os.listdir(plot_frame_dir)) > 0:\n",
    "    image_files = sorted([os.path.join(plot_frame_dir, f) for f in os.listdir(plot_frame_dir) if f.endswith(\".png\")])\n",
    "    if image_files:\n",
    "        img = cv2.imread(image_files[0])\n",
    "        height, width, layers = img.shape\n",
    "        fourcc = cv2.VideoWriter_fourcc(*'mp4v') # You can change the codec\n",
    "        video_writer = cv2.VideoWriter(output_video_path, fourcc, 20.0, (width, height)) # Adjust FPS as needed\n",
    "\n",
    "        for image_file in image_files:\n",
    "            img = cv2.imread(image_file)\n",
    "            video_writer.write(img)\n",
    "\n",
    "        video_writer.release()\n",
    "        print(f\"\\nLoss graph video saved to: {output_video_path}\")"
   ]
  }
 ],
 "metadata": {
  "kernelspec": {
   "display_name": "Python 3",
   "language": "python",
   "name": "python3"
  },
  "language_info": {
   "codemirror_mode": {
    "name": "ipython",
    "version": 3
   },
   "file_extension": ".py",
   "mimetype": "text/x-python",
   "name": "python",
   "nbconvert_exporter": "python",
   "pygments_lexer": "ipython3",
   "version": "3.10.15"
  }
 },
 "nbformat": 4,
 "nbformat_minor": 5
}
