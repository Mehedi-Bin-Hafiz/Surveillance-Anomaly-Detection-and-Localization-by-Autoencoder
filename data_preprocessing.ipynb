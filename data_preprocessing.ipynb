{
 "cells": [
  {
   "cell_type": "code",
   "execution_count": 113,
   "id": "dc8328a1",
   "metadata": {},
   "outputs": [],
   "source": [
    "from datetime import timedelta\n",
    "import cv2\n",
    "import numpy as np\n",
    "import os"
   ]
  },
  {
   "cell_type": "code",
   "execution_count": 114,
   "id": "c478d6eb",
   "metadata": {},
   "outputs": [],
   "source": [
    "taken_fps = 15"
   ]
  },
  {
   "cell_type": "code",
   "execution_count": 115,
   "id": "e30be7dc",
   "metadata": {},
   "outputs": [],
   "source": [
    "def taken_frames_durations(cap, saving_fps):\n",
    "    duration = []\n",
    "    video_duration = cap.get(cv2.CAP_PROP_FRAME_COUNT) / cap.get(cv2.CAP_PROP_FPS)\n",
    "    for i in np.arange(0, video_duration, 1 / saving_fps):\n",
    "        duration.append(round(i,2))\n",
    "    return duration"
   ]
  },
  {
   "cell_type": "code",
   "execution_count": 116,
   "id": "d3c40599",
   "metadata": {},
   "outputs": [],
   "source": [
    "store_image = list()\n",
    "video_directory = \"F:\\\\Research database\\\\Avenue Dataset\\\\training_videos\"\n",
    "frames_directory = \"F:\\\\Research database\\\\Avenue Dataset\\\\training_frames\"\n"
   ]
  },
  {
   "cell_type": "markdown",
   "id": "44170b78",
   "metadata": {},
   "source": [
    "## Frame extraction "
   ]
  },
  {
   "cell_type": "code",
   "execution_count": 117,
   "id": "e49a1538",
   "metadata": {},
   "outputs": [],
   "source": [
    "video_names = os.listdir(video_directory) \n",
    "for name in video_names:\n",
    "    saving_dir_name, _ = os.path.splitext(name)\n",
    "    saving_dir_name = \"video_\" + saving_dir_name\n",
    "    video_path = os.path.join(video_directory, name)\n",
    "    saving_frame_path = os.path.join(frames_directory,saving_dir_name)\n",
    "    if not os.path.isdir(saving_frame_path):\n",
    "        os.mkdir(saving_frame_path)\n",
    "    cap = cv2.VideoCapture(video_path) \n",
    "    fps = cap.get(cv2.CAP_PROP_FPS)\n",
    "    final_taken_fps = min(fps, taken_fps) # taken_fps should not higher than video fps\n",
    "    saving_frames_durations = taken_frames_durations(cap, final_taken_fps)\n",
    "    time_count = 0\n",
    "    frame_number = 0\n",
    "    while True:\n",
    "        is_read, frame = cap.read()\n",
    "        if not is_read:\n",
    "            break\n",
    "        frame_duration = time_count / fps # measure duration until video end\n",
    "        try:\n",
    "            closest_duration = saving_frames_durations[0]\n",
    "        except:\n",
    "            break\n",
    "        if frame_duration >= closest_duration: #this condition maintain taken fps\n",
    "            frame = cv2.resize(frame,(227,227))\n",
    "            frame = cv2.cvtColor(frame,cv2.COLOR_BGR2GRAY)\n",
    "            cv2.imwrite(os.path.join(saving_frame_path, f\"frame_{frame_number}.jpg\"),frame) #save frame for backup\n",
    "            store_image.append(frame)\n",
    "            frame_number += 1\n",
    "            try:\n",
    "                saving_frames_durations.pop(0) #as 0th postion recored so I removed 0th frame\n",
    "            except:\n",
    "                pass\n",
    "        time_count += 1"
   ]
  },
  {
   "cell_type": "markdown",
   "id": "bed3cdfc",
   "metadata": {},
   "source": [
    "## Dumping all frames as numpy file"
   ]
  },
  {
   "cell_type": "code",
   "execution_count": 118,
   "id": "500bcf07",
   "metadata": {},
   "outputs": [],
   "source": [
    "store_image=np.array(store_image)"
   ]
  },
  {
   "cell_type": "code",
   "execution_count": 119,
   "id": "8f566c35",
   "metadata": {},
   "outputs": [],
   "source": [
    "# normalization\n",
    "store_image=(store_image-store_image.mean())/(store_image.std())\n",
    "store_image=np.clip(store_image,0,1) # make between 0 to 1"
   ]
  },
  {
   "cell_type": "code",
   "execution_count": 120,
   "id": "01070983",
   "metadata": {},
   "outputs": [],
   "source": [
    "np.save('training.npy',store_image)"
   ]
  },
  {
   "cell_type": "code",
   "execution_count": null,
   "id": "38b476d7",
   "metadata": {},
   "outputs": [],
   "source": []
  },
  {
   "cell_type": "code",
   "execution_count": null,
   "id": "2c30dade",
   "metadata": {},
   "outputs": [],
   "source": []
  },
  {
   "cell_type": "code",
   "execution_count": null,
   "id": "5cb56821",
   "metadata": {},
   "outputs": [],
   "source": []
  }
 ],
 "metadata": {
  "kernelspec": {
   "display_name": "venvAI",
   "language": "python",
   "name": "venvai"
  },
  "language_info": {
   "codemirror_mode": {
    "name": "ipython",
    "version": 3
   },
   "file_extension": ".py",
   "mimetype": "text/x-python",
   "name": "python",
   "nbconvert_exporter": "python",
   "pygments_lexer": "ipython3",
   "version": "3.6.8"
  }
 },
 "nbformat": 4,
 "nbformat_minor": 5
}
